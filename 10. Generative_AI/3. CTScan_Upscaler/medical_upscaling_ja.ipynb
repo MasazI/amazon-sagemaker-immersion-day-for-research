{
 "cells": [
  {
   "cell_type": "markdown",
   "id": "16c61f54",
   "metadata": {},
   "source": [
    "# 医用画像の超解像"
   ]
  },
  {
   "cell_type": "markdown",
   "id": "bdc23bae",
   "metadata": {},
   "source": [
    "---\n",
    "\n",
    "\n",
    "超解像は、低解像度の画像をより鮮明にするために、画像の質を向上させることを目的とした技術です。\n",
    "\n",
    "このプロセスは、画像処理の分野で広く研究されています。しかし、研究者がしばしば遭遇するいくつかの問題があります。 一つは、補間を利用した手法に関する問題です。補間ベースの技術は、利用可能な情報に基づいて教育的な推測を行うことで、低解像度の画像に欠けている詳細を推定しようとします。残念ながら、このような手法では、強調された画像にシャープさや細かいディテールがなく、ぼやけた出力になってしまうことがよくあります。\n",
    "\n",
    "Stable Diffusion は、AI アルゴリズムを使用して画像のスケールを拡大するため、画像内のギャップを手動で埋める必要があるような手作業が不要になります。数百万枚の画像でトレーニングされ、高解像度の画像を正確に予測できるため、従来の画像アップスケーラーと比較してディテールが大幅に向上します。さらに、最近傍などの非深層学習技術とは異なり、Stable Diffusionは画像のコンテキストを考慮し、スケールの拡大プロセスを導くために、テキストのプロンプトを使用します。\n",
    "\n",
    "このノートブックでは、デモンストレーションとして、CT スキャンで取得した画像を強化する方法を紹介します。\n",
    "\n",
    "こちらは、中足骨を骨折した、犬の足の CT スキャンです。\n",
    "\n",
    "<img src=\"ctscan_dog.png\" alt= \"CT Scan Dog Paws\" align=\"center\">\n",
    "\n",
    "私たちは、SageMaker Python SDK を使用して、最先端の事前学習された Stable Diffusion モデルを用いてアップスケーリングを行っています。アップスケーリングは、低解像度の画像と画像を説明するテキストプロンプトが与えられた場合に、高解像度の画像を生成するタスクです。低解像度でぼやけており、ピクセル化してしまった画像を、より滑らな鮮明で詳細な高解像度画像に変換することができます。アップスケーリングと呼ぶこのプロセスは、実際の画像と[text-to-image Stable Diffusion モデル](https://aws.amazon.com/blogs/machine-learning/generate-images-from-text-with-the-stable-diffusion-model-on-amazon-sagemaker-jumpstart/)によって生成された画像のどちらにも適用できます。\n",
    "\n",
    "医療分野では、診断の改善と、放射線学で普及しているCAD（Computer Aided Detection）システムによる検出をより強化する目的で、画質を向上させようとする研究が数多く行われています。さらに、アップスケーリングは、高解像度な画面に表示される低解像度画像の視覚的な品質を向上させることができます。\n",
    "\n",
    "---"
   ]
  },
  {
   "cell_type": "markdown",
   "id": "5db28351",
   "metadata": {},
   "source": [
    "1. [セットアップ](#1.-セットアップ)\n",
    "2. [Artifacts の取得とエンドポイントのデプロイ](#2.-Artifactsの取得とエンドポイントのデプロイ)\n",
    "3. [エンドポイントへのクエリとレスポンスのパース](#3.-エンドポイントへのクエリとレスポンスのパース)\n",
    "4. [エンドポイントのクリーンアップ](#4.-エンドポイントのクリーンアップ)"
   ]
  },
  {
   "cell_type": "markdown",
   "id": "ce462973",
   "metadata": {},
   "source": [
    "Note: このノートブックは Amazon SageMaker Studio の ml.t3.medium インスタンスとPython 3 (Data Science) カーネルを使用した環境、及び Amazon SageMaker Notebook インスタンスの　conda_python3 カーネルの環境でテストしました。\n",
    "\n",
    "Note: ノートブックの実行が終わったら、全てのリソースを必ず削除して、課金が停止するようにしてください。[Clean up the endpoint](#5.-Clean-up-the-endpoint) のコードは、作成されたモデルとエンドポイントを削除します。"
   ]
  },
  {
   "cell_type": "markdown",
   "id": "9ea47727",
   "metadata": {},
   "source": [
    "### 1. セットアップ"
   ]
  },
  {
   "cell_type": "markdown",
   "id": "35b91e81",
   "metadata": {},
   "source": [
    "---\n",
    "ノートブックを実行する前に、セットアップのためにいくつかの初期ステップがあります。このノートブックでは最新版の sagemaker および ipywidegets が必要です。\n",
    "\n",
    "---"
   ]
  },
  {
   "cell_type": "code",
   "execution_count": 3,
   "id": "25293522",
   "metadata": {
    "tags": []
   },
   "outputs": [
    {
     "name": "stdout",
     "output_type": "stream",
     "text": [
      "\u001b[31mERROR: pip's dependency resolver does not currently take into account all the packages that are installed. This behaviour is the source of the following dependency conflicts.\n",
      "pytest-astropy 0.8.0 requires pytest-cov>=2.0, which is not installed.\n",
      "pytest-astropy 0.8.0 requires pytest-filter-subpackage>=0.1, which is not installed.\n",
      "sparkmagic 0.20.4 requires nest-asyncio==1.5.5, but you have nest-asyncio 1.5.6 which is incompatible.\n",
      "docker-compose 1.29.2 requires PyYAML<6,>=3.10, but you have pyyaml 6.0 which is incompatible.\n",
      "awscli 1.27.111 requires botocore==1.29.111, but you have botocore 1.29.155 which is incompatible.\n",
      "awscli 1.27.111 requires PyYAML<5.5,>=3.10, but you have pyyaml 6.0 which is incompatible.\n",
      "awscli 1.27.111 requires rsa<4.8,>=3.1.2, but you have rsa 4.9 which is incompatible.\n",
      "aiobotocore 2.4.2 requires botocore<1.27.60,>=1.27.59, but you have botocore 1.29.155 which is incompatible.\u001b[0m\u001b[31m\n",
      "\u001b[0m\u001b[33mWARNING: Running pip as the 'root' user can result in broken permissions and conflicting behaviour with the system package manager. It is recommended to use a virtual environment instead: https://pip.pypa.io/warnings/venv\u001b[0m\u001b[33m\n",
      "\u001b[0m\n",
      "\u001b[1m[\u001b[0m\u001b[34;49mnotice\u001b[0m\u001b[1;39;49m]\u001b[0m\u001b[39;49m A new release of pip is available: \u001b[0m\u001b[31;49m23.0.1\u001b[0m\u001b[39;49m -> \u001b[0m\u001b[32;49m23.1.2\u001b[0m\n",
      "\u001b[1m[\u001b[0m\u001b[34;49mnotice\u001b[0m\u001b[1;39;49m]\u001b[0m\u001b[39;49m To update, run: \u001b[0m\u001b[32;49mpip install --upgrade pip\u001b[0m\n"
     ]
    }
   ],
   "source": [
    "!pip install sagemaker ipywidgets --upgrade --quiet"
   ]
  },
  {
   "cell_type": "markdown",
   "id": "48370155",
   "metadata": {},
   "source": [
    "#### 権限と環境変数\n",
    "\n",
    "---\n",
    "Amazon SageMakerでホストするために、AWSサービスを利用するための認証をセットアップする必要があります。ここでは、SageMakerにアクセスできるAWSアカウントのロールとして、ノートブックに関連づけられた実行ロールを利用します。\n",
    "\n",
    "---"
   ]
  },
  {
   "cell_type": "code",
   "execution_count": 4,
   "id": "90518e45",
   "metadata": {
    "tags": []
   },
   "outputs": [],
   "source": [
    "import sagemaker, boto3, json\n",
    "from sagemaker import get_execution_role\n",
    "\n",
    "aws_role = get_execution_role()\n",
    "aws_region = boto3.Session().region_name\n",
    "sess = sagemaker.Session()"
   ]
  },
  {
   "cell_type": "markdown",
   "id": "8f3ab601",
   "metadata": {
    "tags": []
   },
   "source": [
    "### 2. Artifactsの取得とエンドポイントのデプロイ\n",
    "\n",
    "***\n",
    "Amazon SageMaker では、Hugging Face モデルを利用した 学習、Fine-tuning、推論が可能です。学習と推論の両方に Hugging Face を利用できます。\n",
    "この機能は、Hugging Face AWS Deep Learning コンテナ を通して利用します。これらのコンテナには、Hugging Face Transformers、Tokenizers、Datasets ライブラリが含まれており、学習や推論ジョブのために使用できます。利用可能な Deep Learning コンテナイメージのリストについては、[利用可能な Deep Learning コンテナイメージ](https://github.com/aws/deep-learning-containers/blob/master/available_images.md)をご覧ください。こららのコンテナイメージはメンテナンスされており、セキュリティパッチが定期的に更新されます。\n",
    "\n",
    "Hugging Face Deep Learning コンテナを SageMaker Python SDKで学習のために利用するには、SageMakerの[Hugging Face Estimator](https://sagemaker.readthedocs.io/en/stable/frameworks/huggingface/sagemaker.huggingface.html) をご覧ください。Hugging Face Estimatorを利用することで、Hugging Face のモデルを、他のSageMaker Estimatorと同様に使用できますが、\n",
    "SageMaker Python SDK は1つの選択肢であり、AWS CLI と AWS SDK for Python (boto3) を使用して、Hugging Face Deep Learning コンテナの使用を管理することもできます。\n",
    "\n",
    "このノートブックでは、Stable Diffusion x4 upscaler を使用します。モデルカードは[こちら](https://huggingface.co/stabilityai/stable-diffusion-x4-upscaler)から入手できます。\n",
    "\n",
    "SageMakerを活用すると、新しいデータセットで最初にFine-tuningを実施しなくとも、事前学習されたモデルで推論を実行できます。まずは、事前学習済みのモデルとして、\n",
    "`deploy_image_uri`, `deploy_source_uri`, そして `model_uri` を取得します。このモデルをホストするために、[`sagemaker.model.Model`](https://sagemaker.readthedocs.io/en/stable/api/inference/model.html) を作成し、デプロイします。この処理には、数分間かかります。\n",
    "\n",
    "***"
   ]
  },
  {
   "cell_type": "code",
   "execution_count": 5,
   "id": "a8a79ec9",
   "metadata": {
    "tags": []
   },
   "outputs": [
    {
     "name": "stdout",
     "output_type": "stream",
     "text": [
      "----------!"
     ]
    }
   ],
   "source": [
    "from sagemaker import image_uris, model_uris, script_uris, hyperparameters\n",
    "from sagemaker.model import Model\n",
    "from sagemaker.predictor import Predictor\n",
    "from sagemaker.utils import name_from_base\n",
    "\n",
    "(model_id, model_version,) = (\n",
    "    \"model-upscaling-stabilityai-stable-diffusion-x4-upscaler-fp16\",\n",
    "    \"*\",\n",
    ")\n",
    "\n",
    "endpoint_name = name_from_base(f\"medical-example-{model_id}\")\n",
    "\n",
    "# GPUメモリの多いインスタンスほど、より大きな画像の生成が可能です。\n",
    "# 非常に大きな画像を生成したい場合、たとえば ml.g5.2xlarge などのインスタンスタイプを選択してください。\n",
    "inference_instance_type = \"ml.p3.2xlarge\"\n",
    "\n",
    "# 推論用の Docker コンテナ URI を取得します。上記モデルのためのベースとなる、HuggingFaceコンテナイメージです。\n",
    "deploy_image_uri = image_uris.retrieve(\n",
    "    region=None,\n",
    "    framework=None,  # automatically inferred from model_id\n",
    "    image_scope=\"inference\",\n",
    "    model_id=model_id,\n",
    "    model_version=model_version,\n",
    "    instance_type=inference_instance_type,\n",
    ")\n",
    "\n",
    "# 推論用のスクリプト URIを取得します。モデルをロードし、推論を実行するためのスクリプトと依存ライブラリが含まれます。\n",
    "deploy_source_uri = script_uris.retrieve(\n",
    "    model_id=model_id, model_version=model_version, script_scope=\"inference\"\n",
    ")\n",
    "\n",
    "# モデルのURIを取得します。事前学習済みのモデルとそのパラメータが含まれます。\n",
    "model_uri = model_uris.retrieve(\n",
    "    model_id=model_id, model_version=model_version, model_scope=\"inference\"\n",
    ")\n",
    "\n",
    "# SageMakerのモデルを作成します。\n",
    "model = Model(\n",
    "    image_uri=deploy_image_uri,\n",
    "    source_dir=deploy_source_uri,\n",
    "    model_data=model_uri,\n",
    "    entry_point=\"inference.py\",  # entry point file in source_dir and present in deploy_source_uri\n",
    "    role=aws_role,\n",
    "    predictor_cls=Predictor,\n",
    "    name=endpoint_name,\n",
    ")\n",
    "\n",
    "# モデルをデプロイします。\n",
    "# SageMaker APIを通して推論を実行するためには、Modelクラスを通してモデルをデプロイする場合、Predictorクラスを使う必要があります。\n",
    "model_predictor = model.deploy(\n",
    "    initial_instance_count=1,\n",
    "    instance_type=inference_instance_type,\n",
    "    predictor_cls=Predictor,\n",
    "    endpoint_name=endpoint_name,\n",
    ")"
   ]
  },
  {
   "cell_type": "markdown",
   "id": "665dfbe4-2857-484e-8179-3ad11307822c",
   "metadata": {},
   "source": [
    "### 3. エンドポイントへのクエリとレスポンスのパース\n",
    "\n",
    "---\n",
    "エンドポイントへの入力は、`utf-8` 形式でエンコードされた、プロンプト、低解像度の画像、`json` 形式の画像生成のパラメータです。エンドポイントからの出力は、生成された画像と入力されたプロンプトであり、`json` 形式です。\n",
    "\n",
    "---"
   ]
  },
  {
   "cell_type": "markdown",
   "id": "7cd63c69-1a6a-4f33-a90e-f73a172b1685",
   "metadata": {
    "tags": []
   },
   "source": [
    "#### 3.1 低解像度画像のサンプルのダウンロード\n",
    "---\n",
    "これから修正したい、低解像度の画像を見てみましょう。\n",
    "\n",
    "---"
   ]
  },
  {
   "cell_type": "code",
   "execution_count": 7,
   "id": "85c19342-3a7a-4c01-844c-0937828bba7c",
   "metadata": {
    "tags": []
   },
   "outputs": [
    {
     "data": {
      "image/jpeg": "[encoded data removed]",
      "text/plain": [
       "<IPython.core.display.Image object>"
      ]
     },
     "execution_count": 7,
     "metadata": {
      "image/jpeg": {
       "height": 632,
       "width": 632
      }
     },
     "output_type": "execute_result"
    }
   ],
   "source": [
    "from IPython.display import Image\n",
    "\n",
    "low_res_img_file_name = \"ctscan.jpg\"\n",
    "\n",
    "# 元の画像を表示します。\n",
    "Image(filename=low_res_img_file_name, width=632, height=632)"
   ]
  },
  {
   "cell_type": "markdown",
   "id": "7fb5f775-c73c-4a19-a581-9f9db30238d6",
   "metadata": {},
   "source": [
    "次に、エンドポイントへのクエリと、レスポンスのパース、生成された画像を表示するための helper関数を記述します。"
   ]
  },
  {
   "cell_type": "code",
   "execution_count": 8,
   "id": "84fb30d0",
   "metadata": {
    "tags": []
   },
   "outputs": [],
   "source": [
    "import matplotlib.pyplot as plt\n",
    "import numpy as np\n",
    "\n",
    "\n",
    "def query(model_predictor, payload, content_type, accept):\n",
    "    \"\"\"Query the model predictor.\"\"\"\n",
    "\n",
    "    query_response = model_predictor.predict(\n",
    "        payload,\n",
    "        {\n",
    "            \"ContentType\": content_type,\n",
    "            \"Accept\": accept,\n",
    "        },\n",
    "    )\n",
    "    return query_response\n",
    "\n",
    "\n",
    "def parse_response(query_response):\n",
    "    \"\"\"Parse response and return the generated images and prompt.\"\"\"\n",
    "\n",
    "    response_dict = json.loads(query_response)\n",
    "    return response_dict[\"generated_images\"], response_dict[\"prompt\"]\n",
    "\n",
    "\n",
    "def display_img_and_prompt(img, prmpt):\n",
    "    \"\"\"Display the generated image.\"\"\"\n",
    "    plt.figure(figsize=(12, 12))\n",
    "    plt.imshow(np.array(img))\n",
    "    plt.axis(\"off\")\n",
    "    plt.title(prmpt)\n",
    "    plt.show()"
   ]
  },
  {
   "cell_type": "markdown",
   "id": "aea0434b",
   "metadata": {},
   "source": [
    "---\n",
    "以下に、低解像度の画像とプロンプトの例を示します。任意のテキストと画像を入力でき、モデルはアップスケールした画像を生成します。元の画像の 4 倍のサイズの画像を生成することに注意してください。非常に大きな画像を入力すると、CUDAメモリの問題が発生する可能性があります。この問題に対処するには、解像度の低い画像を入力するか、ml.g5.2xlarge のような CUDA メモリが大きいインスタンスタイプを選んでください。\n",
    "\n",
    "---"
   ]
  },
  {
   "cell_type": "markdown",
   "id": "91227eb6-ca25-49a4-8562-6e2f46180403",
   "metadata": {},
   "source": [
    "#### サポートされるパラメータ\n",
    "\n",
    "***\n",
    "このモデルは、推論を実行する際に以下に示す多くのパラメータをサポートします。\n",
    "\n",
    "* **prompt**: 画像生成をガイドするプロンプトです。文字列または文字列のリストを指定する必要があります。\n",
    "* **num_inference_steps**: 画像生成時のノイズ除去ステップ数です。ステップ数が多いほど高画質になります。正の整数である必要があります。\n",
    "* **guidance_scale**: 大きい値を指定すると画質が犠牲にする代わりに、プロンプトに近い画像を生成します。1 以下の guidance_scale は無視されます。\n",
    "* **negative_prompt**: このプロンプトに反する様に画像生成をガイドします。文字列または文字列のリストである必要があり、guidance_scaleと共に使用されます。guidance_scaleが無効の場合、negative_promptも無効になります。さらに、promptが文字列のリストである場合、nagetive_promptも文字列のリストである必要があります。 \n",
    "* **seed**: 再現性のために、ランダム化された状態を固定します。指定する場合、整数である必要があります。\n",
    "* **noise_level**: アップスケールする前に潜在ベクトルにノイズを加えます。指定する場合、整数である必要があります。\n",
    "\n",
    "***"
   ]
  },
  {
   "cell_type": "code",
   "execution_count": 15,
   "id": "4fd0a997-d41d-48af-851c-740d5f66d55f",
   "metadata": {
    "pycharm": {
     "is_executing": true
    },
    "tags": []
   },
   "outputs": [],
   "source": [
    "import base64\n",
    "from PIL import Image\n",
    "from io import BytesIO\n",
    "\n",
    "\n",
    "# content_type = 'application/json;jpeg' を指定します。エンドポイントは、低解像度の jpeg 画像を base64.b64 形式でエンコードしたバイト列を含む json を payload として受け取ります。\n",
    "# raw画像をエンドポイントに送信するには、content_type = 'application/json' を指定し、encoded_image に np.array(PIL.Image.open('low_res_image.jpg')).tolist() を設定します。\n",
    "content_type = \"application/json;jpeg\"\n",
    "\n",
    "\n",
    "# 低解像度画像の高さと幅が 2 の累乗となるように、画像を再スケーリングすることをお勧めします。\n",
    "# original_image = Image.open('low_res_image.jpg'); rescaled_image = original_image.rescale((128,128)); rescaled_image.save('rescaled_image.jpg') のように処理できます。\n",
    "# このチュートリアルで使用するサンプル画像のサイズは 128x128 です。\n",
    "with open(low_res_img_file_name, \"rb\") as f:\n",
    "    low_res_image_bytes = f.read()\n",
    "encoded_image = base64.b64encode(bytearray(low_res_image_bytes)).decode()\n",
    "\n",
    "payload = {\n",
    "    \"prompt\": \"xray ct scan\",\n",
    "    \"image\": encoded_image,\n",
    "    \"num_inference_steps\": 500,\n",
    "    \"guidance_scale\": 3,\n",
    "}\n",
    "\n",
    "# accept = 'application/json;jpeg'の場合、エンドポイントはjpeg画像をbase64.b64形式でエンコードしたバイト列として返します。\n",
    "# raw 画像を rgb 値で受け取る場合、accept = 'application/json' をセットします。\n",
    "accept = \"application/json;jpeg\"\n",
    "\n",
    "# raw/rgb 値でペイロードを送受信すると、SageMaker の入力ペイロードとレスポンスのサイズの制限に当たる可能性があることに注意してください。\n",
    "\n",
    "query_response = query(model_predictor, json.dumps(payload).encode(\"utf-8\"), content_type, accept)\n",
    "generated_images, prompt = parse_response(query_response)"
   ]
  },
  {
   "cell_type": "code",
   "execution_count": 16,
   "id": "93408e6a-9295-4c6a-a759-3e0454983691",
   "metadata": {
    "pycharm": {
     "is_executing": true
    },
    "tags": []
   },
   "outputs": [
    {
     "data": {
      "image/png": "[encoded data removed]",
      "text/plain": [
       "<Figure size 1100x800 with 2 Axes>"
      ]
     },
     "metadata": {},
     "output_type": "display_data"
    }
   ],
   "source": [
    "import matplotlib.pyplot as plt\n",
    "import matplotlib.image as mpimg\n",
    "from matplotlib import rcParams\n",
    "\n",
    "%matplotlib inline\n",
    "\n",
    "# 図形サイズのオプション\n",
    "rcParams['figure.figsize'] = 11 ,8\n",
    "\n",
    "# 上で言及したように accept = 'application/json;jpeg' のため、画像は base64.b64 形式でエンコードされたバイト列の jpeg です。\n",
    "# ここでは、画像をデコードし表示します。\n",
    "for generated_image in generated_images:\n",
    "    generated_image_decoded = BytesIO(base64.b64decode(generated_image.encode()))\n",
    "    generated_image_rgb = Image.open(generated_image_decoded).convert(\"RGB\")\n",
    "\n",
    "    img_enhanced_name = 'upscaled_ctscan.jpg'\n",
    "    generated_image_rgb.save(img_enhanced_name)\n",
    "    # read images\n",
    "    img_original = mpimg.imread(low_res_img_file_name)\n",
    "    img_enhanced = mpimg.imread(img_enhanced_name)\n",
    "\n",
    "    # display images\n",
    "    fig, ax = plt.subplots(1,2)\n",
    "    ax[0].imshow(img_original)\n",
    "    ax[0].title.set_text('Original')\n",
    "    ax[1].imshow(img_enhanced)\n",
    "    ax[1].title.set_text('Improved Resolution')\n",
    "    "
   ]
  },
  {
   "cell_type": "markdown",
   "id": "870d1173",
   "metadata": {},
   "source": [
    "### 4. エンドポイントのクリーンアップ\n",
    "\n",
    "***\n",
    "ノートブックを完了したら、コストの発生を停止するため、作成された全てのリソースが削除されたことを確認してください。\n",
    "***"
   ]
  },
  {
   "cell_type": "code",
   "execution_count": null,
   "id": "63cb143b",
   "metadata": {
    "tags": []
   },
   "outputs": [],
   "source": [
    "# SageMaker endpoint　の削除\n",
    "#model_predictor.delete_model()\n",
    "#model_predictor.delete_endpoint()"
   ]
  },
  {
   "cell_type": "code",
   "execution_count": null,
   "id": "08d74cb8-9859-4cd6-9e7d-23d4e1b2a081",
   "metadata": {},
   "outputs": [],
   "source": []
  }
 ],
 "metadata": {
  "availableInstances": [
   {
    "_defaultOrder": 0,
    "_isFastLaunch": true,
    "category": "General purpose",
    "gpuNum": 0,
    "hideHardwareSpecs": false,
    "memoryGiB": 4,
    "name": "ml.t3.medium",
    "vcpuNum": 2
   },
   {
    "_defaultOrder": 1,
    "_isFastLaunch": false,
    "category": "General purpose",
    "gpuNum": 0,
    "hideHardwareSpecs": false,
    "memoryGiB": 8,
    "name": "ml.t3.large",
    "vcpuNum": 2
   },
   {
    "_defaultOrder": 2,
    "_isFastLaunch": false,
    "category": "General purpose",
    "gpuNum": 0,
    "hideHardwareSpecs": false,
    "memoryGiB": 16,
    "name": "ml.t3.xlarge",
    "vcpuNum": 4
   },
   {
    "_defaultOrder": 3,
    "_isFastLaunch": false,
    "category": "General purpose",
    "gpuNum": 0,
    "hideHardwareSpecs": false,
    "memoryGiB": 32,
    "name": "ml.t3.2xlarge",
    "vcpuNum": 8
   },
   {
    "_defaultOrder": 4,
    "_isFastLaunch": true,
    "category": "General purpose",
    "gpuNum": 0,
    "hideHardwareSpecs": false,
    "memoryGiB": 8,
    "name": "ml.m5.large",
    "vcpuNum": 2
   },
   {
    "_defaultOrder": 5,
    "_isFastLaunch": false,
    "category": "General purpose",
    "gpuNum": 0,
    "hideHardwareSpecs": false,
    "memoryGiB": 16,
    "name": "ml.m5.xlarge",
    "vcpuNum": 4
   },
   {
    "_defaultOrder": 6,
    "_isFastLaunch": false,
    "category": "General purpose",
    "gpuNum": 0,
    "hideHardwareSpecs": false,
    "memoryGiB": 32,
    "name": "ml.m5.2xlarge",
    "vcpuNum": 8
   },
   {
    "_defaultOrder": 7,
    "_isFastLaunch": false,
    "category": "General purpose",
    "gpuNum": 0,
    "hideHardwareSpecs": false,
    "memoryGiB": 64,
    "name": "ml.m5.4xlarge",
    "vcpuNum": 16
   },
   {
    "_defaultOrder": 8,
    "_isFastLaunch": false,
    "category": "General purpose",
    "gpuNum": 0,
    "hideHardwareSpecs": false,
    "memoryGiB": 128,
    "name": "ml.m5.8xlarge",
    "vcpuNum": 32
   },
   {
    "_defaultOrder": 9,
    "_isFastLaunch": false,
    "category": "General purpose",
    "gpuNum": 0,
    "hideHardwareSpecs": false,
    "memoryGiB": 192,
    "name": "ml.m5.12xlarge",
    "vcpuNum": 48
   },
   {
    "_defaultOrder": 10,
    "_isFastLaunch": false,
    "category": "General purpose",
    "gpuNum": 0,
    "hideHardwareSpecs": false,
    "memoryGiB": 256,
    "name": "ml.m5.16xlarge",
    "vcpuNum": 64
   },
   {
    "_defaultOrder": 11,
    "_isFastLaunch": false,
    "category": "General purpose",
    "gpuNum": 0,
    "hideHardwareSpecs": false,
    "memoryGiB": 384,
    "name": "ml.m5.24xlarge",
    "vcpuNum": 96
   },
   {
    "_defaultOrder": 12,
    "_isFastLaunch": false,
    "category": "General purpose",
    "gpuNum": 0,
    "hideHardwareSpecs": false,
    "memoryGiB": 8,
    "name": "ml.m5d.large",
    "vcpuNum": 2
   },
   {
    "_defaultOrder": 13,
    "_isFastLaunch": false,
    "category": "General purpose",
    "gpuNum": 0,
    "hideHardwareSpecs": false,
    "memoryGiB": 16,
    "name": "ml.m5d.xlarge",
    "vcpuNum": 4
   },
   {
    "_defaultOrder": 14,
    "_isFastLaunch": false,
    "category": "General purpose",
    "gpuNum": 0,
    "hideHardwareSpecs": false,
    "memoryGiB": 32,
    "name": "ml.m5d.2xlarge",
    "vcpuNum": 8
   },
   {
    "_defaultOrder": 15,
    "_isFastLaunch": false,
    "category": "General purpose",
    "gpuNum": 0,
    "hideHardwareSpecs": false,
    "memoryGiB": 64,
    "name": "ml.m5d.4xlarge",
    "vcpuNum": 16
   },
   {
    "_defaultOrder": 16,
    "_isFastLaunch": false,
    "category": "General purpose",
    "gpuNum": 0,
    "hideHardwareSpecs": false,
    "memoryGiB": 128,
    "name": "ml.m5d.8xlarge",
    "vcpuNum": 32
   },
   {
    "_defaultOrder": 17,
    "_isFastLaunch": false,
    "category": "General purpose",
    "gpuNum": 0,
    "hideHardwareSpecs": false,
    "memoryGiB": 192,
    "name": "ml.m5d.12xlarge",
    "vcpuNum": 48
   },
   {
    "_defaultOrder": 18,
    "_isFastLaunch": false,
    "category": "General purpose",
    "gpuNum": 0,
    "hideHardwareSpecs": false,
    "memoryGiB": 256,
    "name": "ml.m5d.16xlarge",
    "vcpuNum": 64
   },
   {
    "_defaultOrder": 19,
    "_isFastLaunch": false,
    "category": "General purpose",
    "gpuNum": 0,
    "hideHardwareSpecs": false,
    "memoryGiB": 384,
    "name": "ml.m5d.24xlarge",
    "vcpuNum": 96
   },
   {
    "_defaultOrder": 20,
    "_isFastLaunch": false,
    "category": "General purpose",
    "gpuNum": 0,
    "hideHardwareSpecs": true,
    "memoryGiB": 0,
    "name": "ml.geospatial.interactive",
    "supportedImageNames": [
     "sagemaker-geospatial-v1-0"
    ],
    "vcpuNum": 0
   },
   {
    "_defaultOrder": 21,
    "_isFastLaunch": true,
    "category": "Compute optimized",
    "gpuNum": 0,
    "hideHardwareSpecs": false,
    "memoryGiB": 4,
    "name": "ml.c5.large",
    "vcpuNum": 2
   },
   {
    "_defaultOrder": 22,
    "_isFastLaunch": false,
    "category": "Compute optimized",
    "gpuNum": 0,
    "hideHardwareSpecs": false,
    "memoryGiB": 8,
    "name": "ml.c5.xlarge",
    "vcpuNum": 4
   },
   {
    "_defaultOrder": 23,
    "_isFastLaunch": false,
    "category": "Compute optimized",
    "gpuNum": 0,
    "hideHardwareSpecs": false,
    "memoryGiB": 16,
    "name": "ml.c5.2xlarge",
    "vcpuNum": 8
   },
   {
    "_defaultOrder": 24,
    "_isFastLaunch": false,
    "category": "Compute optimized",
    "gpuNum": 0,
    "hideHardwareSpecs": false,
    "memoryGiB": 32,
    "name": "ml.c5.4xlarge",
    "vcpuNum": 16
   },
   {
    "_defaultOrder": 25,
    "_isFastLaunch": false,
    "category": "Compute optimized",
    "gpuNum": 0,
    "hideHardwareSpecs": false,
    "memoryGiB": 72,
    "name": "ml.c5.9xlarge",
    "vcpuNum": 36
   },
   {
    "_defaultOrder": 26,
    "_isFastLaunch": false,
    "category": "Compute optimized",
    "gpuNum": 0,
    "hideHardwareSpecs": false,
    "memoryGiB": 96,
    "name": "ml.c5.12xlarge",
    "vcpuNum": 48
   },
   {
    "_defaultOrder": 27,
    "_isFastLaunch": false,
    "category": "Compute optimized",
    "gpuNum": 0,
    "hideHardwareSpecs": false,
    "memoryGiB": 144,
    "name": "ml.c5.18xlarge",
    "vcpuNum": 72
   },
   {
    "_defaultOrder": 28,
    "_isFastLaunch": false,
    "category": "Compute optimized",
    "gpuNum": 0,
    "hideHardwareSpecs": false,
    "memoryGiB": 192,
    "name": "ml.c5.24xlarge",
    "vcpuNum": 96
   },
   {
    "_defaultOrder": 29,
    "_isFastLaunch": true,
    "category": "Accelerated computing",
    "gpuNum": 1,
    "hideHardwareSpecs": false,
    "memoryGiB": 16,
    "name": "ml.g4dn.xlarge",
    "vcpuNum": 4
   },
   {
    "_defaultOrder": 30,
    "_isFastLaunch": false,
    "category": "Accelerated computing",
    "gpuNum": 1,
    "hideHardwareSpecs": false,
    "memoryGiB": 32,
    "name": "ml.g4dn.2xlarge",
    "vcpuNum": 8
   },
   {
    "_defaultOrder": 31,
    "_isFastLaunch": false,
    "category": "Accelerated computing",
    "gpuNum": 1,
    "hideHardwareSpecs": false,
    "memoryGiB": 64,
    "name": "ml.g4dn.4xlarge",
    "vcpuNum": 16
   },
   {
    "_defaultOrder": 32,
    "_isFastLaunch": false,
    "category": "Accelerated computing",
    "gpuNum": 1,
    "hideHardwareSpecs": false,
    "memoryGiB": 128,
    "name": "ml.g4dn.8xlarge",
    "vcpuNum": 32
   },
   {
    "_defaultOrder": 33,
    "_isFastLaunch": false,
    "category": "Accelerated computing",
    "gpuNum": 4,
    "hideHardwareSpecs": false,
    "memoryGiB": 192,
    "name": "ml.g4dn.12xlarge",
    "vcpuNum": 48
   },
   {
    "_defaultOrder": 34,
    "_isFastLaunch": false,
    "category": "Accelerated computing",
    "gpuNum": 1,
    "hideHardwareSpecs": false,
    "memoryGiB": 256,
    "name": "ml.g4dn.16xlarge",
    "vcpuNum": 64
   },
   {
    "_defaultOrder": 35,
    "_isFastLaunch": false,
    "category": "Accelerated computing",
    "gpuNum": 1,
    "hideHardwareSpecs": false,
    "memoryGiB": 61,
    "name": "ml.p3.2xlarge",
    "vcpuNum": 8
   },
   {
    "_defaultOrder": 36,
    "_isFastLaunch": false,
    "category": "Accelerated computing",
    "gpuNum": 4,
    "hideHardwareSpecs": false,
    "memoryGiB": 244,
    "name": "ml.p3.8xlarge",
    "vcpuNum": 32
   },
   {
    "_defaultOrder": 37,
    "_isFastLaunch": false,
    "category": "Accelerated computing",
    "gpuNum": 8,
    "hideHardwareSpecs": false,
    "memoryGiB": 488,
    "name": "ml.p3.16xlarge",
    "vcpuNum": 64
   },
   {
    "_defaultOrder": 38,
    "_isFastLaunch": false,
    "category": "Accelerated computing",
    "gpuNum": 8,
    "hideHardwareSpecs": false,
    "memoryGiB": 768,
    "name": "ml.p3dn.24xlarge",
    "vcpuNum": 96
   },
   {
    "_defaultOrder": 39,
    "_isFastLaunch": false,
    "category": "Memory Optimized",
    "gpuNum": 0,
    "hideHardwareSpecs": false,
    "memoryGiB": 16,
    "name": "ml.r5.large",
    "vcpuNum": 2
   },
   {
    "_defaultOrder": 40,
    "_isFastLaunch": false,
    "category": "Memory Optimized",
    "gpuNum": 0,
    "hideHardwareSpecs": false,
    "memoryGiB": 32,
    "name": "ml.r5.xlarge",
    "vcpuNum": 4
   },
   {
    "_defaultOrder": 41,
    "_isFastLaunch": false,
    "category": "Memory Optimized",
    "gpuNum": 0,
    "hideHardwareSpecs": false,
    "memoryGiB": 64,
    "name": "ml.r5.2xlarge",
    "vcpuNum": 8
   },
   {
    "_defaultOrder": 42,
    "_isFastLaunch": false,
    "category": "Memory Optimized",
    "gpuNum": 0,
    "hideHardwareSpecs": false,
    "memoryGiB": 128,
    "name": "ml.r5.4xlarge",
    "vcpuNum": 16
   },
   {
    "_defaultOrder": 43,
    "_isFastLaunch": false,
    "category": "Memory Optimized",
    "gpuNum": 0,
    "hideHardwareSpecs": false,
    "memoryGiB": 256,
    "name": "ml.r5.8xlarge",
    "vcpuNum": 32
   },
   {
    "_defaultOrder": 44,
    "_isFastLaunch": false,
    "category": "Memory Optimized",
    "gpuNum": 0,
    "hideHardwareSpecs": false,
    "memoryGiB": 384,
    "name": "ml.r5.12xlarge",
    "vcpuNum": 48
   },
   {
    "_defaultOrder": 45,
    "_isFastLaunch": false,
    "category": "Memory Optimized",
    "gpuNum": 0,
    "hideHardwareSpecs": false,
    "memoryGiB": 512,
    "name": "ml.r5.16xlarge",
    "vcpuNum": 64
   },
   {
    "_defaultOrder": 46,
    "_isFastLaunch": false,
    "category": "Memory Optimized",
    "gpuNum": 0,
    "hideHardwareSpecs": false,
    "memoryGiB": 768,
    "name": "ml.r5.24xlarge",
    "vcpuNum": 96
   },
   {
    "_defaultOrder": 47,
    "_isFastLaunch": false,
    "category": "Accelerated computing",
    "gpuNum": 1,
    "hideHardwareSpecs": false,
    "memoryGiB": 16,
    "name": "ml.g5.xlarge",
    "vcpuNum": 4
   },
   {
    "_defaultOrder": 48,
    "_isFastLaunch": false,
    "category": "Accelerated computing",
    "gpuNum": 1,
    "hideHardwareSpecs": false,
    "memoryGiB": 32,
    "name": "ml.g5.2xlarge",
    "vcpuNum": 8
   },
   {
    "_defaultOrder": 49,
    "_isFastLaunch": false,
    "category": "Accelerated computing",
    "gpuNum": 1,
    "hideHardwareSpecs": false,
    "memoryGiB": 64,
    "name": "ml.g5.4xlarge",
    "vcpuNum": 16
   },
   {
    "_defaultOrder": 50,
    "_isFastLaunch": false,
    "category": "Accelerated computing",
    "gpuNum": 1,
    "hideHardwareSpecs": false,
    "memoryGiB": 128,
    "name": "ml.g5.8xlarge",
    "vcpuNum": 32
   },
   {
    "_defaultOrder": 51,
    "_isFastLaunch": false,
    "category": "Accelerated computing",
    "gpuNum": 1,
    "hideHardwareSpecs": false,
    "memoryGiB": 256,
    "name": "ml.g5.16xlarge",
    "vcpuNum": 64
   },
   {
    "_defaultOrder": 52,
    "_isFastLaunch": false,
    "category": "Accelerated computing",
    "gpuNum": 4,
    "hideHardwareSpecs": false,
    "memoryGiB": 192,
    "name": "ml.g5.12xlarge",
    "vcpuNum": 48
   },
   {
    "_defaultOrder": 53,
    "_isFastLaunch": false,
    "category": "Accelerated computing",
    "gpuNum": 4,
    "hideHardwareSpecs": false,
    "memoryGiB": 384,
    "name": "ml.g5.24xlarge",
    "vcpuNum": 96
   },
   {
    "_defaultOrder": 54,
    "_isFastLaunch": false,
    "category": "Accelerated computing",
    "gpuNum": 8,
    "hideHardwareSpecs": false,
    "memoryGiB": 768,
    "name": "ml.g5.48xlarge",
    "vcpuNum": 192
   },
   {
    "_defaultOrder": 55,
    "_isFastLaunch": false,
    "category": "Accelerated computing",
    "gpuNum": 8,
    "hideHardwareSpecs": false,
    "memoryGiB": 1152,
    "name": "ml.p4d.24xlarge",
    "vcpuNum": 96
   },
   {
    "_defaultOrder": 56,
    "_isFastLaunch": false,
    "category": "Accelerated computing",
    "gpuNum": 8,
    "hideHardwareSpecs": false,
    "memoryGiB": 1152,
    "name": "ml.p4de.24xlarge",
    "vcpuNum": 96
   }
  ],
  "instance_type": "ml.t3.medium",
  "kernelspec": {
   "display_name": "Python 3 (Data Science)",
   "language": "python",
   "name": "python3__SAGEMAKER_INTERNAL__arn:aws:sagemaker:us-east-1:081325390199:image/datascience-1.0"
  },
  "language_info": {
   "codemirror_mode": {
    "name": "ipython",
    "version": 3
   },
   "file_extension": ".py",
   "mimetype": "text/x-python",
   "name": "python",
   "nbconvert_exporter": "python",
   "pygments_lexer": "ipython3",
   "version": "3.7.10"
  },
  "pycharm": {
   "stem_cell": {
    "cell_type": "raw",
    "metadata": {
     "collapsed": false
    },
    "source": []
   }
  }
 },
 "nbformat": 4,
 "nbformat_minor": 5
}
