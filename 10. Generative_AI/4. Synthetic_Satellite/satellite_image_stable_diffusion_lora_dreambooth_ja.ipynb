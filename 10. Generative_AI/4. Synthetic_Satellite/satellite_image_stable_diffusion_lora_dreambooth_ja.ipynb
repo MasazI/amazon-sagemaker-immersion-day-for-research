{
 "cells": [
  {
   "cell_type": "markdown",
   "id": "e9b7c2d0-ea3d-48f9-bff0-bd71e156421d",
   "metadata": {},
   "source": [
    "Note : このノートブックでは **PyTorch 2.0 Python 3.10 GPU カーネル と g4dn.xlarge インスタンス** を使ってください。"
   ]
  },
  {
   "cell_type": "markdown",
   "id": "9eb70bb6-6eae-4cbf-b228-b1c9c5d61c04",
   "metadata": {},
   "source": [
    "# ユースケース\n",
    "このラボでは、合成衛星画像を生成します。これらの画像は研究のために使われたり、画像認識モデルを作成するときの入力画像として利用されます。"
   ]
  },
  {
   "cell_type": "markdown",
   "id": "82230498-8559-4b47-bb7e-bd855aafcf82",
   "metadata": {},
   "source": [
    "# Stable Diffusion"
   ]
  },
  {
   "cell_type": "raw",
   "id": "511d4ee5-b7a7-4508-976b-827081a20c64",
   "metadata": {},
   "source": [
    "Stable Diffusion を利用すると、簡単にテキストから画像を生成することができます。画像生成以外にも、別の画像とプロンプトに基づいて画像を生成したり（image to image）、インペインティング（画像の一部を編集）、アウトペインティング（画像を拡張）、アップスケーリング（画像の解像度を大きくする）などの機能を備えています。"
   ]
  },
  {
   "cell_type": "markdown",
   "id": "3accf4d9-e879-4416-a90a-e8a1b2f50d12",
   "metadata": {
    "tags": []
   },
   "source": [
    "## なぜ Stable Diffusion を Fine-tune するのか？"
   ]
  },
  {
   "cell_type": "markdown",
   "id": "0636bfe9-a3b6-4206-9264-9c62a6c31122",
   "metadata": {},
   "source": [
    "Stable Diffusion は画像生成において優れていますが、特定の分野に特化した画像の質はあまり高くないかもしれません。たとえば、このノートブックでは、衛星画像を生成しようとします。デフォルトで生成される衛生画像は、いくつかの特徴（高速道路など）をよく表していますが、高速道路を含む衛生画像の品質を向上させるために、実際の衛生画像を用いて Stable Diffusion を Fine-tuning します。"
   ]
  },
  {
   "cell_type": "markdown",
   "id": "506f91fa-394f-4f49-a5db-3a307b67311f",
   "metadata": {},
   "source": [
    "## Fine-tuneの方法"
   ]
  },
  {
   "cell_type": "markdown",
   "id": "d00a5a34-5620-4f26-be65-68c50d266133",
   "metadata": {},
   "source": [
    "Stable Diffusion を Fine-tune するために、[こちら](https://dreambooth.github.io/) で説明のある DtreamBooth という方法を使います。以下は、DreamBooth の論文の簡単な説明です。\n",
    "> 私たちの方法では、被写体（例えば特定の犬）の数枚の画像（実験において、通常 3 ~ 5 枚の画像で十分です）と、対応するクラス名（例えば\"犬\"）を入力とし、固有の被写体に関する一意の識別子をエンコードする Fine-tuneされた/パーソナライズされた text-to-imageモデル を得ます。推論では、異なる文章による一意の識別子を異なるコンテキストの被写体の合成に埋め込むことができます。"
   ]
  },
  {
   "cell_type": "markdown",
   "id": "de03eae0-d997-416a-8084-c2bcdad9b0be",
   "metadata": {},
   "source": [
    "**さあ、はじめましょう!**\n",
    "ハードウェアに関するステップを最初に行います。ノートブックの最初に記載している、正しいカーネルとインスタンスのサイズが選択されていることを確認してください。\n"
   ]
  },
  {
   "cell_type": "code",
   "execution_count": null,
   "id": "9b4b7c00-9a68-41d7-aea1-e5ab74763629",
   "metadata": {
    "tags": []
   },
   "outputs": [],
   "source": [
    "!nvidia-smi"
   ]
  },
  {
   "cell_type": "markdown",
   "id": "c2eb2965-9095-4621-b696-3d9a574040e1",
   "metadata": {},
   "source": [
    "次に、このノートブックで必要ないくつかのライブラリをインストールします。"
   ]
  },
  {
   "cell_type": "code",
   "execution_count": null,
   "id": "05a16c87-f909-4812-90bd-7bdb5d61b0a3",
   "metadata": {
    "tags": []
   },
   "outputs": [],
   "source": [
    "!pip install transformers accelerate>=0.16.0 ftfy tensorboard Jinja2 huggingface_hub wandb kaggle git+https://github.com/huggingface/diffusers"
   ]
  },
  {
   "cell_type": "markdown",
   "id": "a143ee81-cde7-4c8a-ae84-a44f78bca47b",
   "metadata": {},
   "source": [
    "### データセット\n",
    "このチュートリアルのために、Sentinal 2 Satellite 画像からなる、土地利用のための分類データセットである EuroSAT データセットを使います。生成する衛星画像のタイプとして、`Highway`クラスを使用します。`Forest` と `Industrial` クラスは、モデルが `Highway` *インスタンス*を分離する*クラス*として機能します。\n",
    "ノート: このエクササイズでは、EuroSATデータセットの画像サイズに合わせて、全ての画像を 64,64 にリサイズして表示します。"
   ]
  },
  {
   "cell_type": "code",
   "execution_count": null,
   "id": "5356be77-9071-4504-bce1-126f42298cc8",
   "metadata": {
    "tags": []
   },
   "outputs": [],
   "source": [
    "!mkdir -p EuroSAT/Highway\n",
    "!unzip -q eurosat-dataset.zip \"EuroSAT/Highway/*\" -d \"\""
   ]
  },
  {
   "cell_type": "code",
   "execution_count": null,
   "id": "965d3815-ae53-403c-9761-4ad71b4f21d7",
   "metadata": {
    "tags": []
   },
   "outputs": [],
   "source": [
    "!mkdir -p EuroSAT/base/Forest\n",
    "!unzip -q eurosat-dataset.zip \"EuroSAT/Forest/*\" -d \"base\""
   ]
  },
  {
   "cell_type": "code",
   "execution_count": null,
   "id": "752ee964-dc64-4b21-89b3-57b5defb9da7",
   "metadata": {
    "tags": []
   },
   "outputs": [],
   "source": [
    "!mkdir -p EuroSAT/base/Industrial\n",
    "!unzip -q eurosat-dataset.zip \"EuroSAT/Industrial/*\" -d \"base\""
   ]
  },
  {
   "cell_type": "markdown",
   "id": "935a7210-34fe-4f9a-8ea3-87adcdfff29f",
   "metadata": {},
   "source": [
    "## データセットの観察\n",
    "EuroSAT データセットの `Highway` クラスのデータを見てみましょう。"
   ]
  },
  {
   "cell_type": "code",
   "execution_count": null,
   "id": "4ca65389-b58d-466e-8e66-9949dfd99dfd",
   "metadata": {
    "tags": []
   },
   "outputs": [],
   "source": [
    "from PIL import Image\n",
    "\n",
    "def image_grid(imgs, rows, cols):\n",
    "    assert len(imgs) == rows*cols\n",
    "\n",
    "    w, h = imgs[0].size\n",
    "    grid = Image.new('RGB', size=(cols*w, rows*h))\n",
    "    grid_w, grid_h = grid.size\n",
    "    \n",
    "    for i, img in enumerate(imgs):\n",
    "        grid.paste(img, box=(i%cols*w, i//cols*h))\n",
    "    return grid"
   ]
  },
  {
   "cell_type": "code",
   "execution_count": null,
   "id": "b085fbe3-88ba-4f4a-aabb-3320c43652da",
   "metadata": {
    "tags": []
   },
   "outputs": [],
   "source": [
    "actual_img = [Image.open(\"EuroSAT/Highway/Highway_{}.jpg\".format(str(i))) for i in range(1,11)]\n",
    "image_grid([x.resize((64,64)) for x in actual_img], 2,5)"
   ]
  },
  {
   "cell_type": "markdown",
   "id": "a0ff4ff5-04a8-4e2f-b0ec-58457e20b2e0",
   "metadata": {},
   "source": [
    "`Forest` と `Industrial` クラスを見てみましょう。"
   ]
  },
  {
   "cell_type": "code",
   "execution_count": null,
   "id": "ca1d3080-52e0-47f5-9f7b-37c76f7821d2",
   "metadata": {
    "tags": []
   },
   "outputs": [],
   "source": [
    "actual_img = [Image.open(\"base/EuroSAT/Forest/Forest_{}.jpg\".format(str(i))) for i in range(1,11)]\n",
    "image_grid([x.resize((64,64)) for x in actual_img], 2,5)"
   ]
  },
  {
   "cell_type": "code",
   "execution_count": null,
   "id": "e340ad6c-d353-4eb9-a79a-05222ff9a7d6",
   "metadata": {
    "tags": []
   },
   "outputs": [],
   "source": [
    "actual_img = [Image.open(\"base/EuroSAT/Industrial/Industrial_{}.jpg\".format(str(i))) for i in range(1,11)]\n",
    "image_grid([x.resize((64,64)) for x in actual_img], 2,5)"
   ]
  },
  {
   "cell_type": "code",
   "execution_count": null,
   "id": "9cb1feba-2040-40e7-85ec-08bf73877b07",
   "metadata": {
    "tags": []
   },
   "outputs": [],
   "source": [
    "import shutil, os\n",
    "forest_files = os.listdir(\"base/EuroSAT/Forest\")\n",
    "industrial_files = os.listdir(\"base/EuroSAT/Industrial\")"
   ]
  },
  {
   "cell_type": "code",
   "execution_count": null,
   "id": "7311f47c-ef6d-4e22-aa9b-5766913656b6",
   "metadata": {
    "tags": []
   },
   "outputs": [],
   "source": [
    "!mkdir -p \"base/class\""
   ]
  },
  {
   "cell_type": "markdown",
   "id": "4973a424-972c-4624-9661-c9999aa57f93",
   "metadata": {},
   "source": [
    "準備のため、Fine-tuningに使用できるパスにファイルをコピーします。"
   ]
  },
  {
   "cell_type": "code",
   "execution_count": null,
   "id": "a945bab7-4ac1-40a4-b129-effa41a2f5cf",
   "metadata": {
    "tags": []
   },
   "outputs": [],
   "source": [
    "for filename in forest_files:\n",
    "    shutil.copyfile(\n",
    "        os.path.join(\"base/EuroSAT/Forest\",filename),\n",
    "        os.path.join(\"base/class\",filename)\n",
    "    )\n",
    "for filename in industrial_files:\n",
    "    shutil.copyfile(\n",
    "        os.path.join(\"base/EuroSAT/Industrial\",filename),\n",
    "        os.path.join(\"base/class\",filename)\n",
    "    )"
   ]
  },
  {
   "cell_type": "markdown",
   "id": "9b2444ac-0b4d-412a-8bd5-8d84990fe387",
   "metadata": {},
   "source": [
    "## Stable Diffusion を利用した画像の生成\n",
    "Fine-tuningを始める前に、Stable Diffusion がデフォルトで生成する画像を見ておきます。Stable Diffusion (1.5) を使って、`Highway` クラスの衛星画像を生成します。\n",
    "Haggingface の [Diffusers](https://huggingface.co/docs/diffusers/index) ライブラリを利用します。"
   ]
  },
  {
   "cell_type": "code",
   "execution_count": null,
   "id": "0185fc1e-d9ef-4f89-8b1a-81e32dfdfae5",
   "metadata": {
    "tags": []
   },
   "outputs": [],
   "source": [
    "from diffusers import DiffusionPipeline, DPMSolverMultistepScheduler\n",
    "import torch\n",
    "\n",
    "pipe = DiffusionPipeline.from_pretrained(\"runwayml/stable-diffusion-v1-5\", torch_dtype=torch.float16)\n",
    "pipe.scheduler = DPMSolverMultistepScheduler.from_config(pipe.scheduler.config)\n",
    "pipe.to(\"cuda\")"
   ]
  },
  {
   "cell_type": "code",
   "execution_count": null,
   "id": "821c4a04-ce95-48d5-9574-b62e554d7e83",
   "metadata": {
    "tags": []
   },
   "outputs": [],
   "source": [
    "img_list = pipe([\"Sentinel 2 satellite image of a highway\"]*10, num_inference_steps=25).images"
   ]
  },
  {
   "cell_type": "code",
   "execution_count": null,
   "id": "d49030dd-0e6a-4ef4-8974-8c4fa8ad482f",
   "metadata": {
    "tags": []
   },
   "outputs": [],
   "source": [
    "image_grid([x.resize((64,64)) for x in img_list], 2,5)"
   ]
  },
  {
   "cell_type": "code",
   "execution_count": null,
   "id": "f6de68c5-8e21-4430-bea3-51ac5c52b16e",
   "metadata": {
    "tags": []
   },
   "outputs": [],
   "source": [
    "import gc\n",
    "from numba import cuda\n",
    "del(pipe)\n",
    "gc.collect()\n",
    "torch.cuda.empty_cache()\n",
    "\n",
    "# device = cuda.get_current_device()\n",
    "# device.reset()"
   ]
  },
  {
   "cell_type": "markdown",
   "id": "e4d83fb5-d4c7-4c9e-af27-c2968d50837f",
   "metadata": {},
   "source": [
    "## EuroSAT の実際の高速道路画像"
   ]
  },
  {
   "cell_type": "code",
   "execution_count": null,
   "id": "54d5dcb4-8a11-49a9-b0a6-196deba72546",
   "metadata": {
    "tags": []
   },
   "outputs": [],
   "source": [
    "actual_img = [Image.open(\"EuroSAT/Highway/Highway_{}.jpg\".format(str(i))) for i in range(1,11)]\n",
    "image_grid([x.resize((64,64)) for x in actual_img], 2,5)"
   ]
  },
  {
   "cell_type": "markdown",
   "id": "9f1e27fb-949e-4160-abd2-bcf717fc195a",
   "metadata": {},
   "source": [
    "Stable Diffustion が直接生成した画像と実際の EuroSAT データセットの画像とで、色やスタイルに大きな違いがあることがわかります。"
   ]
  },
  {
   "cell_type": "markdown",
   "id": "afef0121-c634-4bc5-a701-8413000cdad1",
   "metadata": {},
   "source": [
    "## DreamBooth と LoRA を利用した Stable Diffution の Fine-tune\n",
    "正しいタイプの衛星画像をどのように生成するのか学ぶため、text-to-image モデルを Fine-tune します。そのために、2 つの最近のイノベーションである、Dreambooth と LoRA を利用します。\n",
    "DreamBooth はモデルがより大きな `class` と関連する明確なキャラクターをもった `instance` に適合した画像を生成することをモデルが学習するための新しい方法です。\n",
    "Low rank adapters (LoRA) は学習するパラメータを大きく減少することで、モデル学習を高速にします。\n",
    "[こちら](https://github.com/huggingface/diffusers/blob/main/examples/dreambooth/README.md) に役に立つスクリプトがあります。\n",
    "\n",
    "Stable Diffusion が新しい`instance`を学べるように、一意で（そして短い）トークン/単語を、新しい`instance`を表現するために使います。ここでは、文字順序として、他の意味のある単語と似ておらず、トークン/単語によく使われる `sks` を使います。`sks` は Stable Diffusion の Fine-tuningのチュートリアルでもよく使われます。"
   ]
  },
  {
   "cell_type": "markdown",
   "id": "1ae36427-0940-4d09-9f93-46bb8842bf31",
   "metadata": {},
   "source": [
    "最初に、diffusers ライブラリをインストールします。"
   ]
  },
  {
   "cell_type": "code",
   "execution_count": null,
   "id": "d960e0ab-58b1-441a-b5d0-9cfa33c44831",
   "metadata": {
    "tags": []
   },
   "outputs": [],
   "source": [
    "!wget https://raw.githubusercontent.com/huggingface/diffusers/main/examples/dreambooth/train_dreambooth_lora.py"
   ]
  },
  {
   "cell_type": "markdown",
   "id": "e564bdc9-37ef-4746-8f04-15070d59f065",
   "metadata": {},
   "source": [
    "次に、Fine-tuningのコードを事項します。Fine-tuningがこのノートブックのローカルで実行されます。\n",
    "[accelerate](https://github.com/huggingface/accelerate) ライブラリを使うと、PyTorchのコードを複数のGPUで簡単に実行できます。"
   ]
  },
  {
   "cell_type": "code",
   "execution_count": null,
   "id": "df282d95-d718-45db-8df2-96d0e2c6d041",
   "metadata": {
    "tags": []
   },
   "outputs": [],
   "source": [
    "!accelerate launch train_dreambooth_lora.py \\\n",
    "  --pretrained_model_name_or_path=\"runwayml/stable-diffusion-v1-5\"  \\\n",
    "  --instance_data_dir=\"EuroSAT/Highway\" \\\n",
    "  --output_dir=trained_model \\\n",
    "  --instance_prompt=\"Sentinel 2 satellite image of sks\" \\\n",
    "  --resolution=256 \\\n",
    "  --train_batch_size=1 \\\n",
    "  --gradient_accumulation_steps=1 \\\n",
    "  --checkpointing_steps=100 \\\n",
    "  --learning_rate=1e-4 \\\n",
    "  --report_to=\"tensorboard\" \\\n",
    "  --lr_scheduler=\"constant\" \\\n",
    "  --lr_warmup_steps=0 \\\n",
    "  --with_prior_preservation \\\n",
    "  --class_data_dir=\"base/class\" \\\n",
    "  --class_prompt=\"Sentinel 2 satellite image\" \\\n",
    "  --max_train_steps=800 \\\n",
    "  --seed=\"0\" "
   ]
  },
  {
   "cell_type": "markdown",
   "id": "5bafac84-7fd9-4ada-8e43-44fc6606e929",
   "metadata": {},
   "source": [
    "## 結果の可視化\n",
    "モデルが学習できたので、次の比較を行います。\n",
    "1. Fine-tuningせずに、Stable Diffusion で生成した画像\n",
    "2. LoRA と Dream Booth によって Fine-tuning された Stable Diffusion で生成した画像\n",
    "3. EuroSATのオリジナル画像"
   ]
  },
  {
   "cell_type": "code",
   "execution_count": null,
   "id": "5e0a2265-7e5d-4327-851a-72ff7bc9a9af",
   "metadata": {
    "tags": []
   },
   "outputs": [],
   "source": [
    "from diffusers import DiffusionPipeline, DPMSolverMultistepScheduler\n",
    "import torch"
   ]
  },
  {
   "cell_type": "markdown",
   "id": "92b924a2-c281-4a6b-bd42-89d47f811229",
   "metadata": {},
   "source": [
    "Fine-tuningなしで生成した画像を見てみましょう。"
   ]
  },
  {
   "cell_type": "code",
   "execution_count": null,
   "id": "ab11c7cb-569f-45cd-ac91-246815ced63d",
   "metadata": {
    "tags": []
   },
   "outputs": [],
   "source": [
    "pipe = DiffusionPipeline.from_pretrained(\"runwayml/stable-diffusion-v1-5\", torch_dtype=torch.float16)\n",
    "pipe.scheduler = DPMSolverMultistepScheduler.from_config(pipe.scheduler.config)\n",
    "pipe.to(\"cuda\")"
   ]
  },
  {
   "cell_type": "code",
   "execution_count": null,
   "id": "943c0671-e281-4e52-9fc2-6e62cecb9ecc",
   "metadata": {
    "tags": []
   },
   "outputs": [],
   "source": [
    "img_list = pipe([\"Sentinel 2 satellite image of a highway\"]*3, num_inference_steps=25).images\n",
    "image_grid([x.resize((128,128)) for x in img_list], 1,3)"
   ]
  },
  {
   "cell_type": "markdown",
   "id": "c3d5c363-ea06-4a82-813d-f3c3b320de32",
   "metadata": {
    "tags": []
   },
   "source": [
    "次に、Fine-tuningした後の生成画像を見てみます。"
   ]
  },
  {
   "cell_type": "code",
   "execution_count": null,
   "id": "4ff8acdb-795e-4382-ab07-1212514a1c7b",
   "metadata": {
    "tags": []
   },
   "outputs": [],
   "source": [
    "pipe.unet.load_attn_procs(\"./trained_model/checkpoint-800\")"
   ]
  },
  {
   "cell_type": "code",
   "execution_count": null,
   "id": "f4f0ad76-803d-461a-a4da-d4b036254be0",
   "metadata": {
    "tags": []
   },
   "outputs": [],
   "source": [
    "img_list = pipe([\"Sentinel 2 satellite image of sks\"]*3, num_inference_steps=25).images"
   ]
  },
  {
   "cell_type": "code",
   "execution_count": null,
   "id": "e30faa87-332d-43bb-b8eb-634e3bf601e7",
   "metadata": {
    "tags": []
   },
   "outputs": [],
   "source": [
    "image_grid([x.resize((128,128)) for x in img_list], 1,3)"
   ]
  },
  {
   "cell_type": "markdown",
   "id": "f1ec34df-6981-4d1f-9c0d-11f872e2105a",
   "metadata": {},
   "source": [
    "最後に、オリジナルの画像を見てみます。"
   ]
  },
  {
   "cell_type": "code",
   "execution_count": null,
   "id": "80530dff-6962-4c44-ac80-c688ad54287b",
   "metadata": {
    "tags": []
   },
   "outputs": [],
   "source": [
    "from PIL.ImageOps import exif_transpose\n",
    "actual_img = [exif_transpose(Image.open(\"EuroSAT/Highway/Highway_{}.jpg\".format(str(i)))) for i in range(1,4)]\n",
    "image_grid([x.resize((128,128)) for x in actual_img], 1,3)"
   ]
  },
  {
   "cell_type": "markdown",
   "id": "1e04de58-0560-492d-bdd2-bb1125e1886e",
   "metadata": {},
   "source": [
    "これで、このノートブックは終了です。このノートブックでは、画像を利用して Stable Diffusion を Fine-tunning することで、どの程度生成画像の品質が向上するのか見てきました。"
   ]
  },
  {
   "cell_type": "markdown",
   "id": "04a3df92-962a-4b9e-b9ac-f18bccfa9585",
   "metadata": {},
   "source": [
    "## クリーンアップ\n",
    "このノートブックを閉じた後、左にある白い円の中に黒の四角があるアイコンを使って、インスタンスを停止してください。"
   ]
  },
  {
   "cell_type": "code",
   "execution_count": null,
   "id": "4870f942-2fc2-4fe8-b9d8-3c247b8ac54e",
   "metadata": {},
   "outputs": [],
   "source": []
  }
 ],
 "metadata": {
  "availableInstances": [
   {
    "_defaultOrder": 0,
    "_isFastLaunch": true,
    "category": "General purpose",
    "gpuNum": 0,
    "hideHardwareSpecs": false,
    "memoryGiB": 4,
    "name": "ml.t3.medium",
    "vcpuNum": 2
   },
   {
    "_defaultOrder": 1,
    "_isFastLaunch": false,
    "category": "General purpose",
    "gpuNum": 0,
    "hideHardwareSpecs": false,
    "memoryGiB": 8,
    "name": "ml.t3.large",
    "vcpuNum": 2
   },
   {
    "_defaultOrder": 2,
    "_isFastLaunch": false,
    "category": "General purpose",
    "gpuNum": 0,
    "hideHardwareSpecs": false,
    "memoryGiB": 16,
    "name": "ml.t3.xlarge",
    "vcpuNum": 4
   },
   {
    "_defaultOrder": 3,
    "_isFastLaunch": false,
    "category": "General purpose",
    "gpuNum": 0,
    "hideHardwareSpecs": false,
    "memoryGiB": 32,
    "name": "ml.t3.2xlarge",
    "vcpuNum": 8
   },
   {
    "_defaultOrder": 4,
    "_isFastLaunch": true,
    "category": "General purpose",
    "gpuNum": 0,
    "hideHardwareSpecs": false,
    "memoryGiB": 8,
    "name": "ml.m5.large",
    "vcpuNum": 2
   },
   {
    "_defaultOrder": 5,
    "_isFastLaunch": false,
    "category": "General purpose",
    "gpuNum": 0,
    "hideHardwareSpecs": false,
    "memoryGiB": 16,
    "name": "ml.m5.xlarge",
    "vcpuNum": 4
   },
   {
    "_defaultOrder": 6,
    "_isFastLaunch": false,
    "category": "General purpose",
    "gpuNum": 0,
    "hideHardwareSpecs": false,
    "memoryGiB": 32,
    "name": "ml.m5.2xlarge",
    "vcpuNum": 8
   },
   {
    "_defaultOrder": 7,
    "_isFastLaunch": false,
    "category": "General purpose",
    "gpuNum": 0,
    "hideHardwareSpecs": false,
    "memoryGiB": 64,
    "name": "ml.m5.4xlarge",
    "vcpuNum": 16
   },
   {
    "_defaultOrder": 8,
    "_isFastLaunch": false,
    "category": "General purpose",
    "gpuNum": 0,
    "hideHardwareSpecs": false,
    "memoryGiB": 128,
    "name": "ml.m5.8xlarge",
    "vcpuNum": 32
   },
   {
    "_defaultOrder": 9,
    "_isFastLaunch": false,
    "category": "General purpose",
    "gpuNum": 0,
    "hideHardwareSpecs": false,
    "memoryGiB": 192,
    "name": "ml.m5.12xlarge",
    "vcpuNum": 48
   },
   {
    "_defaultOrder": 10,
    "_isFastLaunch": false,
    "category": "General purpose",
    "gpuNum": 0,
    "hideHardwareSpecs": false,
    "memoryGiB": 256,
    "name": "ml.m5.16xlarge",
    "vcpuNum": 64
   },
   {
    "_defaultOrder": 11,
    "_isFastLaunch": false,
    "category": "General purpose",
    "gpuNum": 0,
    "hideHardwareSpecs": false,
    "memoryGiB": 384,
    "name": "ml.m5.24xlarge",
    "vcpuNum": 96
   },
   {
    "_defaultOrder": 12,
    "_isFastLaunch": false,
    "category": "General purpose",
    "gpuNum": 0,
    "hideHardwareSpecs": false,
    "memoryGiB": 8,
    "name": "ml.m5d.large",
    "vcpuNum": 2
   },
   {
    "_defaultOrder": 13,
    "_isFastLaunch": false,
    "category": "General purpose",
    "gpuNum": 0,
    "hideHardwareSpecs": false,
    "memoryGiB": 16,
    "name": "ml.m5d.xlarge",
    "vcpuNum": 4
   },
   {
    "_defaultOrder": 14,
    "_isFastLaunch": false,
    "category": "General purpose",
    "gpuNum": 0,
    "hideHardwareSpecs": false,
    "memoryGiB": 32,
    "name": "ml.m5d.2xlarge",
    "vcpuNum": 8
   },
   {
    "_defaultOrder": 15,
    "_isFastLaunch": false,
    "category": "General purpose",
    "gpuNum": 0,
    "hideHardwareSpecs": false,
    "memoryGiB": 64,
    "name": "ml.m5d.4xlarge",
    "vcpuNum": 16
   },
   {
    "_defaultOrder": 16,
    "_isFastLaunch": false,
    "category": "General purpose",
    "gpuNum": 0,
    "hideHardwareSpecs": false,
    "memoryGiB": 128,
    "name": "ml.m5d.8xlarge",
    "vcpuNum": 32
   },
   {
    "_defaultOrder": 17,
    "_isFastLaunch": false,
    "category": "General purpose",
    "gpuNum": 0,
    "hideHardwareSpecs": false,
    "memoryGiB": 192,
    "name": "ml.m5d.12xlarge",
    "vcpuNum": 48
   },
   {
    "_defaultOrder": 18,
    "_isFastLaunch": false,
    "category": "General purpose",
    "gpuNum": 0,
    "hideHardwareSpecs": false,
    "memoryGiB": 256,
    "name": "ml.m5d.16xlarge",
    "vcpuNum": 64
   },
   {
    "_defaultOrder": 19,
    "_isFastLaunch": false,
    "category": "General purpose",
    "gpuNum": 0,
    "hideHardwareSpecs": false,
    "memoryGiB": 384,
    "name": "ml.m5d.24xlarge",
    "vcpuNum": 96
   },
   {
    "_defaultOrder": 20,
    "_isFastLaunch": false,
    "category": "General purpose",
    "gpuNum": 0,
    "hideHardwareSpecs": true,
    "memoryGiB": 0,
    "name": "ml.geospatial.interactive",
    "supportedImageNames": [
     "sagemaker-geospatial-v1-0"
    ],
    "vcpuNum": 0
   },
   {
    "_defaultOrder": 21,
    "_isFastLaunch": true,
    "category": "Compute optimized",
    "gpuNum": 0,
    "hideHardwareSpecs": false,
    "memoryGiB": 4,
    "name": "ml.c5.large",
    "vcpuNum": 2
   },
   {
    "_defaultOrder": 22,
    "_isFastLaunch": false,
    "category": "Compute optimized",
    "gpuNum": 0,
    "hideHardwareSpecs": false,
    "memoryGiB": 8,
    "name": "ml.c5.xlarge",
    "vcpuNum": 4
   },
   {
    "_defaultOrder": 23,
    "_isFastLaunch": false,
    "category": "Compute optimized",
    "gpuNum": 0,
    "hideHardwareSpecs": false,
    "memoryGiB": 16,
    "name": "ml.c5.2xlarge",
    "vcpuNum": 8
   },
   {
    "_defaultOrder": 24,
    "_isFastLaunch": false,
    "category": "Compute optimized",
    "gpuNum": 0,
    "hideHardwareSpecs": false,
    "memoryGiB": 32,
    "name": "ml.c5.4xlarge",
    "vcpuNum": 16
   },
   {
    "_defaultOrder": 25,
    "_isFastLaunch": false,
    "category": "Compute optimized",
    "gpuNum": 0,
    "hideHardwareSpecs": false,
    "memoryGiB": 72,
    "name": "ml.c5.9xlarge",
    "vcpuNum": 36
   },
   {
    "_defaultOrder": 26,
    "_isFastLaunch": false,
    "category": "Compute optimized",
    "gpuNum": 0,
    "hideHardwareSpecs": false,
    "memoryGiB": 96,
    "name": "ml.c5.12xlarge",
    "vcpuNum": 48
   },
   {
    "_defaultOrder": 27,
    "_isFastLaunch": false,
    "category": "Compute optimized",
    "gpuNum": 0,
    "hideHardwareSpecs": false,
    "memoryGiB": 144,
    "name": "ml.c5.18xlarge",
    "vcpuNum": 72
   },
   {
    "_defaultOrder": 28,
    "_isFastLaunch": false,
    "category": "Compute optimized",
    "gpuNum": 0,
    "hideHardwareSpecs": false,
    "memoryGiB": 192,
    "name": "ml.c5.24xlarge",
    "vcpuNum": 96
   },
   {
    "_defaultOrder": 29,
    "_isFastLaunch": true,
    "category": "Accelerated computing",
    "gpuNum": 1,
    "hideHardwareSpecs": false,
    "memoryGiB": 16,
    "name": "ml.g4dn.xlarge",
    "vcpuNum": 4
   },
   {
    "_defaultOrder": 30,
    "_isFastLaunch": false,
    "category": "Accelerated computing",
    "gpuNum": 1,
    "hideHardwareSpecs": false,
    "memoryGiB": 32,
    "name": "ml.g4dn.2xlarge",
    "vcpuNum": 8
   },
   {
    "_defaultOrder": 31,
    "_isFastLaunch": false,
    "category": "Accelerated computing",
    "gpuNum": 1,
    "hideHardwareSpecs": false,
    "memoryGiB": 64,
    "name": "ml.g4dn.4xlarge",
    "vcpuNum": 16
   },
   {
    "_defaultOrder": 32,
    "_isFastLaunch": false,
    "category": "Accelerated computing",
    "gpuNum": 1,
    "hideHardwareSpecs": false,
    "memoryGiB": 128,
    "name": "ml.g4dn.8xlarge",
    "vcpuNum": 32
   },
   {
    "_defaultOrder": 33,
    "_isFastLaunch": false,
    "category": "Accelerated computing",
    "gpuNum": 4,
    "hideHardwareSpecs": false,
    "memoryGiB": 192,
    "name": "ml.g4dn.12xlarge",
    "vcpuNum": 48
   },
   {
    "_defaultOrder": 34,
    "_isFastLaunch": false,
    "category": "Accelerated computing",
    "gpuNum": 1,
    "hideHardwareSpecs": false,
    "memoryGiB": 256,
    "name": "ml.g4dn.16xlarge",
    "vcpuNum": 64
   },
   {
    "_defaultOrder": 35,
    "_isFastLaunch": false,
    "category": "Accelerated computing",
    "gpuNum": 1,
    "hideHardwareSpecs": false,
    "memoryGiB": 61,
    "name": "ml.p3.2xlarge",
    "vcpuNum": 8
   },
   {
    "_defaultOrder": 36,
    "_isFastLaunch": false,
    "category": "Accelerated computing",
    "gpuNum": 4,
    "hideHardwareSpecs": false,
    "memoryGiB": 244,
    "name": "ml.p3.8xlarge",
    "vcpuNum": 32
   },
   {
    "_defaultOrder": 37,
    "_isFastLaunch": false,
    "category": "Accelerated computing",
    "gpuNum": 8,
    "hideHardwareSpecs": false,
    "memoryGiB": 488,
    "name": "ml.p3.16xlarge",
    "vcpuNum": 64
   },
   {
    "_defaultOrder": 38,
    "_isFastLaunch": false,
    "category": "Accelerated computing",
    "gpuNum": 8,
    "hideHardwareSpecs": false,
    "memoryGiB": 768,
    "name": "ml.p3dn.24xlarge",
    "vcpuNum": 96
   },
   {
    "_defaultOrder": 39,
    "_isFastLaunch": false,
    "category": "Memory Optimized",
    "gpuNum": 0,
    "hideHardwareSpecs": false,
    "memoryGiB": 16,
    "name": "ml.r5.large",
    "vcpuNum": 2
   },
   {
    "_defaultOrder": 40,
    "_isFastLaunch": false,
    "category": "Memory Optimized",
    "gpuNum": 0,
    "hideHardwareSpecs": false,
    "memoryGiB": 32,
    "name": "ml.r5.xlarge",
    "vcpuNum": 4
   },
   {
    "_defaultOrder": 41,
    "_isFastLaunch": false,
    "category": "Memory Optimized",
    "gpuNum": 0,
    "hideHardwareSpecs": false,
    "memoryGiB": 64,
    "name": "ml.r5.2xlarge",
    "vcpuNum": 8
   },
   {
    "_defaultOrder": 42,
    "_isFastLaunch": false,
    "category": "Memory Optimized",
    "gpuNum": 0,
    "hideHardwareSpecs": false,
    "memoryGiB": 128,
    "name": "ml.r5.4xlarge",
    "vcpuNum": 16
   },
   {
    "_defaultOrder": 43,
    "_isFastLaunch": false,
    "category": "Memory Optimized",
    "gpuNum": 0,
    "hideHardwareSpecs": false,
    "memoryGiB": 256,
    "name": "ml.r5.8xlarge",
    "vcpuNum": 32
   },
   {
    "_defaultOrder": 44,
    "_isFastLaunch": false,
    "category": "Memory Optimized",
    "gpuNum": 0,
    "hideHardwareSpecs": false,
    "memoryGiB": 384,
    "name": "ml.r5.12xlarge",
    "vcpuNum": 48
   },
   {
    "_defaultOrder": 45,
    "_isFastLaunch": false,
    "category": "Memory Optimized",
    "gpuNum": 0,
    "hideHardwareSpecs": false,
    "memoryGiB": 512,
    "name": "ml.r5.16xlarge",
    "vcpuNum": 64
   },
   {
    "_defaultOrder": 46,
    "_isFastLaunch": false,
    "category": "Memory Optimized",
    "gpuNum": 0,
    "hideHardwareSpecs": false,
    "memoryGiB": 768,
    "name": "ml.r5.24xlarge",
    "vcpuNum": 96
   },
   {
    "_defaultOrder": 47,
    "_isFastLaunch": false,
    "category": "Accelerated computing",
    "gpuNum": 1,
    "hideHardwareSpecs": false,
    "memoryGiB": 16,
    "name": "ml.g5.xlarge",
    "vcpuNum": 4
   },
   {
    "_defaultOrder": 48,
    "_isFastLaunch": false,
    "category": "Accelerated computing",
    "gpuNum": 1,
    "hideHardwareSpecs": false,
    "memoryGiB": 32,
    "name": "ml.g5.2xlarge",
    "vcpuNum": 8
   },
   {
    "_defaultOrder": 49,
    "_isFastLaunch": false,
    "category": "Accelerated computing",
    "gpuNum": 1,
    "hideHardwareSpecs": false,
    "memoryGiB": 64,
    "name": "ml.g5.4xlarge",
    "vcpuNum": 16
   },
   {
    "_defaultOrder": 50,
    "_isFastLaunch": false,
    "category": "Accelerated computing",
    "gpuNum": 1,
    "hideHardwareSpecs": false,
    "memoryGiB": 128,
    "name": "ml.g5.8xlarge",
    "vcpuNum": 32
   },
   {
    "_defaultOrder": 51,
    "_isFastLaunch": false,
    "category": "Accelerated computing",
    "gpuNum": 1,
    "hideHardwareSpecs": false,
    "memoryGiB": 256,
    "name": "ml.g5.16xlarge",
    "vcpuNum": 64
   },
   {
    "_defaultOrder": 52,
    "_isFastLaunch": false,
    "category": "Accelerated computing",
    "gpuNum": 4,
    "hideHardwareSpecs": false,
    "memoryGiB": 192,
    "name": "ml.g5.12xlarge",
    "vcpuNum": 48
   },
   {
    "_defaultOrder": 53,
    "_isFastLaunch": false,
    "category": "Accelerated computing",
    "gpuNum": 4,
    "hideHardwareSpecs": false,
    "memoryGiB": 384,
    "name": "ml.g5.24xlarge",
    "vcpuNum": 96
   },
   {
    "_defaultOrder": 54,
    "_isFastLaunch": false,
    "category": "Accelerated computing",
    "gpuNum": 8,
    "hideHardwareSpecs": false,
    "memoryGiB": 768,
    "name": "ml.g5.48xlarge",
    "vcpuNum": 192
   },
   {
    "_defaultOrder": 55,
    "_isFastLaunch": false,
    "category": "Accelerated computing",
    "gpuNum": 8,
    "hideHardwareSpecs": false,
    "memoryGiB": 1152,
    "name": "ml.p4d.24xlarge",
    "vcpuNum": 96
   },
   {
    "_defaultOrder": 56,
    "_isFastLaunch": false,
    "category": "Accelerated computing",
    "gpuNum": 8,
    "hideHardwareSpecs": false,
    "memoryGiB": 1152,
    "name": "ml.p4de.24xlarge",
    "vcpuNum": 96
   }
  ],
  "instance_type": "ml.g4dn.xlarge",
  "kernelspec": {
   "display_name": "Python 3 (PyTorch 2.0.0 Python 3.10 GPU Optimized)",
   "language": "python",
   "name": "python3__SAGEMAKER_INTERNAL__arn:aws:sagemaker:us-east-1:081325390199:image/pytorch-2.0.0-gpu-py310"
  },
  "language_info": {
   "codemirror_mode": {
    "name": "ipython",
    "version": 3
   },
   "file_extension": ".py",
   "mimetype": "text/x-python",
   "name": "python",
   "nbconvert_exporter": "python",
   "pygments_lexer": "ipython3",
   "version": "3.10.8"
  }
 },
 "nbformat": 4,
 "nbformat_minor": 5
}
